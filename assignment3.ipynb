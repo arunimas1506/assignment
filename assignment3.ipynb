{
 "cells": [
  {
   "cell_type": "markdown",
   "metadata": {},
   "source": [
    "# Q1) 1.1 Write a Python Program to implement your own myreduce() function which works exactly like Python's built-in function reduce()."
   ]
  },
  {
   "cell_type": "code",
   "execution_count": 1,
   "metadata": {},
   "outputs": [
    {
     "name": "stdout",
     "output_type": "stream",
     "text": [
      "Product of numbers using reduce function is: 3628800\n"
     ]
    }
   ],
   "source": [
    "def my_reduce(fn, sequence):\n",
    "\n",
    "    # Initializing list to store the first element of the sequence\n",
    "    result = sequence[0]\n",
    "\n",
    "    # Now computing the first and second value to the fn,\n",
    "    # this will go upto last value of the sequence\n",
    "    for values in sequence[1:]:\n",
    "        result = fn(result, values)\n",
    "\n",
    "    return result\n",
    "\n",
    "\n",
    "def product(x, y):\n",
    "    return x*y\n",
    "\n",
    "\n",
    "numbers = range(1, 11)\n",
    "x = my_reduce(product, numbers)\n",
    "print(\"Product of numbers using reduce function is:\", str(x))"
   ]
  },
  {
   "cell_type": "markdown",
   "metadata": {},
   "source": [
    "# 1.2 Write a Python program to implement your own myfilter() function which works exactly like Python's built-in function filter()."
   ]
  },
  {
   "cell_type": "code",
   "execution_count": 3,
   "metadata": {},
   "outputs": [
    {
     "name": "stdout",
     "output_type": "stream",
     "text": [
      "Using filter, your even numbers are: \n",
      " [0, 2, 4, 6, 8, 10]\n"
     ]
    }
   ],
   "source": [
    "def my_filter(fn, sequence):\n",
    "    # Initializing an empty list\n",
    "    final_list = []\n",
    "\n",
    "    # Passing every item in the sequence through values,\n",
    "    # then passing every value of values through the used function,\n",
    "    # if the result of fn comes out to be true, appending the value of the sequence to the final_list\n",
    "    for values in sequence:\n",
    "        if fn(values):\n",
    "            final_list.append(values)\n",
    "\n",
    "    return final_list\n",
    "\n",
    "\n",
    "# To test filter function\n",
    "def iseven(n):\n",
    "    if n % 2 == 0:\n",
    "        return True\n",
    "    else:\n",
    "        return False\n",
    "\n",
    "\n",
    "numbers = range(11)\n",
    "x = my_filter(iseven, numbers)\n",
    "print(\"Using filter, your even numbers are: \\n\", str(x))"
   ]
  },
  {
   "cell_type": "markdown",
   "metadata": {},
   "source": [
    "# Q2) Implement List comprehensions to produce the following lists. Write List comprehensions to produce the following Lists\n",
    "\n",
    "['A', 'C', 'A', 'D', 'G', 'I', ’L’, ‘ D’]\n",
    "\n",
    "['x', 'xx', 'xxx', 'xxxx', 'y', 'yy', 'yyy', 'yyyy', 'z', 'zz', 'zzz', 'zzzz']\n",
    "\n",
    "['x', 'y', 'z', 'xx', 'yy', 'zz', 'xx', 'yy', 'zz', 'xxxx', 'yyyy', 'zzzz']\n",
    "\n",
    "[[2], [3], [4], [3], [4], [5], [4], [5], [6]]\n",
    "\n",
    "[[2, 3, 4, 5], [3, 4, 5, 6], [4, 5, 6, 7], [5, 6, 7, 8]]\n",
    "\n",
    "[(1, 1), (2, 1), (3, 1), (1, 2), (2, 2), (3, 2), (1, 3), (2, 3), (3, 3)]"
   ]
  },
  {
   "cell_type": "code",
   "execution_count": 4,
   "metadata": {},
   "outputs": [
    {
     "name": "stdout",
     "output_type": "stream",
     "text": [
      "['A', 'C', 'A', 'D', 'G', 'I', 'L', 'D']\n",
      "['x', 'xx', 'xxx', 'xxxx', 'y', 'yy', 'yyy', 'yyyy', 'z', 'zz', 'zzz', 'zzzz']\n",
      "['x', 'y', 'z', 'xx', 'yy', 'zz', 'xxx', 'yyy', 'zzz', 'xxxx', 'yyyy', 'zzzz']\n",
      "[[2], [3], [4], [3], [4], [5], [4], [5], [6]]\n",
      "[[2, 3, 4, 5], [3, 4, 5, 6], [4, 5, 6, 7], [5, 6, 7, 8]]\n",
      "[(1, 1), (2, 1), (3, 1), (1, 2), (2, 2), (3, 2), (1, 3), (2, 3), (3, 3)]\n"
     ]
    }
   ],
   "source": [
    "\n",
    "# 1\n",
    "given_word = \"ACADGILD\"\n",
    "result = [letters for letters in given_word]\n",
    "print(result)\n",
    "\n",
    "# 2\n",
    "given_list = ['x','y','z']\n",
    "# First for loop is outer loop and the second one is inner loop\n",
    "# After the expression the first statement is always the outer condition/fn followed by inner condition/fn\n",
    "# It means first the expression will run for all the values of number given first value of item\n",
    "result = [items*number for items in given_list for number in range(1, 5)]\n",
    "print(result)\n",
    "\n",
    "# 3\n",
    "result = [items*number for number in range(1,5) for items in given_list]\n",
    "print(result)\n",
    "\n",
    "# 4\n",
    "given_list = [2,3,4]\n",
    "result = [[i+j] for i in given_list for j in range(3)]\n",
    "print(result)\n",
    "\n",
    "# 5\n",
    "given_list = [2,3,4,5]\n",
    "result = [[i+number for i in given_list] for number in range(4)]\n",
    "print(result)\n",
    "\n",
    "# 6\n",
    "given_list = [1,2,3]\n",
    "result = [(j,i) for i in given_list for j in given_list]\n",
    "print(result)"
   ]
  }
 ],
 "metadata": {
  "kernelspec": {
   "display_name": "Python 3",
   "language": "python",
   "name": "python3"
  },
  "language_info": {
   "codemirror_mode": {
    "name": "ipython",
    "version": 3
   },
   "file_extension": ".py",
   "mimetype": "text/x-python",
   "name": "python",
   "nbconvert_exporter": "python",
   "pygments_lexer": "ipython3",
   "version": "3.8.3"
  }
 },
 "nbformat": 4,
 "nbformat_minor": 4
}
